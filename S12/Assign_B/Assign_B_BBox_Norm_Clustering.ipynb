{
  "nbformat": 4,
  "nbformat_minor": 0,
  "metadata": {
    "kernelspec": {
      "display_name": "Python 3",
      "language": "python",
      "name": "python3"
    },
    "language_info": {
      "codemirror_mode": {
        "name": "ipython",
        "version": 3
      },
      "file_extension": ".py",
      "mimetype": "text/x-python",
      "name": "python",
      "nbconvert_exporter": "python",
      "pygments_lexer": "ipython3",
      "version": "3.6.5"
    },
    "colab": {
      "name": "Assign_B_BBox_Norm_Clustering.ipynb",
      "provenance": [],
      "include_colab_link": true
    }
  },
  "cells": [
    {
      "cell_type": "markdown",
      "metadata": {
        "id": "view-in-github",
        "colab_type": "text"
      },
      "source": [
        "<a href=\"https://colab.research.google.com/github/PremaKathiresanVasagam/TSAI---EVA5/blob/master/S12/Assign_B/Assign_B_BBox_Norm_Clustering.ipynb\" target=\"_parent\"><img src=\"https://colab.research.google.com/assets/colab-badge.svg\" alt=\"Open In Colab\"/></a>"
      ]
    },
    {
      "cell_type": "code",
      "metadata": {
        "id": "95z0C4c5_KIO",
        "outputId": "4af0954d-1856-43df-aeb8-5179c13fdbd7"
      },
      "source": [
        "#Find the image size and store in a dictionary\n",
        "import os\n",
        "from PIL import Image\n",
        "\n",
        "folder_images = \"E:\\AI\\Session12\\ImagesWithBBox\"\n",
        "size_images = dict()\n",
        "\n",
        "for dirpath, _, filenames in os.walk(folder_images):\n",
        "    for path_image in filenames:\n",
        "        image = os.path.abspath(os.path.join(dirpath, path_image))\n",
        "        with Image.open(image) as img:\n",
        "            width, heigth = img.size\n",
        "            size_images[path_image] = {'width': width, 'heigth': heigth}\n",
        "\n",
        "print(size_images)"
      ],
      "execution_count": null,
      "outputs": [
        {
          "output_type": "stream",
          "text": [
            "{'B_002.jpg': {'width': 1300, 'heigth': 866}, 'B_003.jpg': {'width': 800, 'heigth': 989}, 'B_004.jpg': {'width': 2000, 'heigth': 1347}, 'B_005.jpg': {'width': 658, 'heigth': 1024}, 'B_006.jpg': {'width': 275, 'heigth': 183}, 'B_Img001.jpg': {'width': 1500, 'heigth': 1105}, 'HB_Img001.jpg': {'width': 900, 'heigth': 600}, 'HB_Img002.jpg': {'width': 768, 'heigth': 1024}, 'HB_Img003.jpg': {'width': 866, 'heigth': 1300}, 'HMB_Img_001.jpg': {'width': 334, 'heigth': 501}, 'HMB_Img_002.jpg': {'width': 1200, 'heigth': 900}, 'HM_Img_001.jpg': {'width': 1024, 'heigth': 682}, 'HM_Img_002.jpg': {'width': 800, 'heigth': 534}, 'HM_Img_003.jpg': {'width': 275, 'heigth': 183}, 'HM_Img_004.jpg': {'width': 1024, 'heigth': 682}, 'HM_Img_005.jpg': {'width': 1024, 'heigth': 682}, 'HM_Img_006.jpg': {'width': 553, 'heigth': 331}, 'HM_Img_007.jpg': {'width': 626, 'heigth': 417}, 'HM_Img_008.jpg': {'width': 800, 'heigth': 534}, 'HM_Img_009.jpg': {'width': 1600, 'heigth': 1157}, 'HM_Img_010.jpg': {'width': 311, 'heigth': 162}, 'HVB_Img_001.jpg': {'width': 334, 'heigth': 501}, 'HVB_Img_002.jpg': {'width': 375, 'heigth': 500}, 'HVB_Img_003.jpg': {'width': 750, 'heigth': 500}, 'HVB_Img_004.jpg': {'width': 667, 'heigth': 500}, 'HVB_Img_005.jpg': {'width': 277, 'heigth': 502}, 'HVB_Img_006.jpg': {'width': 334, 'heigth': 501}, 'HVB_Img_007.jpg': {'width': 500, 'heigth': 750}, 'HVB_Img_008.jpg': {'width': 375, 'heigth': 500}, 'HVB_Img_009.jpg': {'width': 408, 'heigth': 501}, 'HVB_Img_010.jpg': {'width': 1500, 'heigth': 1000}, 'HVB_Img_011.jpg': {'width': 334, 'heigth': 501}, 'HVB_Img_012.jpg': {'width': 500, 'heigth': 500}, 'HVB_Img_013.jpg': {'width': 375, 'heigth': 500}, 'HVB_Img_014.jpg': {'width': 1534, 'heigth': 2301}, 'HVB_Img_015.jpg': {'width': 334, 'heigth': 501}, 'HVB_Img_016.jpg': {'width': 334, 'heigth': 501}, 'HVB_Img_017.jpg': {'width': 753, 'heigth': 500}, 'HVB_Img_018.jpg': {'width': 334, 'heigth': 501}, 'HVB_Img_019.jpg': {'width': 750, 'heigth': 500}, 'HVB_Img_020.jpg': {'width': 687, 'heigth': 500}, 'HVB_Img_021.jpg': {'width': 500, 'heigth': 500}, 'HVB_Img_022.jpg': {'width': 334, 'heigth': 501}, 'HVB_Img_023.jpg': {'width': 889, 'heigth': 500}, 'HVB_Img_024.jpg': {'width': 750, 'heigth': 500}, 'HVB_Img_025.jpg': {'width': 750, 'heigth': 500}, 'HVB_Img_026.jpg': {'width': 375, 'heigth': 500}, 'HVB_Img_027.jpg': {'width': 713, 'heigth': 501}, 'HVB_Img_028.jpg': {'width': 754, 'heigth': 500}, 'HVB_Img_029.jpg': {'width': 376, 'heigth': 501}, 'HVB_Img_030.jpg': {'width': 1200, 'heigth': 835}, 'HVB_Img_031.jpg': {'width': 1300, 'heigth': 1021}, 'HVB_Img_032.jpg': {'width': 800, 'heigth': 500}, 'HVB_Img_033.jpg': {'width': 1500, 'heigth': 1101}, 'HVB_Img_034.jpg': {'width': 260, 'heigth': 146}, 'HVMB_Img_001.jpg': {'width': 334, 'heigth': 501}, 'HVMB_Img_002.jpg': {'width': 334, 'heigth': 501}, 'HVMB_Img_003.jpg': {'width': 282, 'heigth': 501}, 'HVMB_Img_004.jpg': {'width': 500, 'heigth': 750}, 'HVMB_Img_005.jpg': {'width': 154, 'heigth': 327}, 'HVMB_Img_006.jpg': {'width': 880, 'heigth': 516}, 'HVMB_Img_008.jpg': {'width': 1290, 'heigth': 1287}, 'HVMB_Img_015.jpg': {'width': 334, 'heigth': 501}, 'HVM_Img_001.jpg': {'width': 683, 'heigth': 1024}, 'HVM_Img_002.jpg': {'width': 1024, 'heigth': 685}, 'HVM_Img_003.jpg': {'width': 1200, 'heigth': 675}, 'HVM_Img_004.jpg': {'width': 300, 'heigth': 225}, 'HVM_Img_005.jpg': {'width': 1300, 'heigth': 956}, 'HVM_Img_006.jpg': {'width': 1024, 'heigth': 682}, 'HVM_Img_007.jpg': {'width': 1024, 'heigth': 682}, 'HVM_Img_008.jpg': {'width': 189, 'heigth': 267}, 'HVM_Img_009.jpg': {'width': 626, 'heigth': 417}, 'HVM_Img_010.jpg': {'width': 1024, 'heigth': 682}, 'HVM_Img_011.jpg': {'width': 626, 'heigth': 417}, 'HVM_Img_012.jpg': {'width': 1300, 'heigth': 956}, 'HVM_Img_013.jpg': {'width': 1066, 'heigth': 1689}, 'HVM_Img_014.jpg': {'width': 286, 'heigth': 176}, 'HVM_Img_015.jpg': {'width': 1000, 'heigth': 563}, 'HVM_Img_016.jpg': {'width': 600, 'heigth': 400}, 'HV_001.jpg': {'width': 750, 'heigth': 500}, 'HV_002.jpg': {'width': 335, 'heigth': 500}, 'HV_003.jpg': {'width': 334, 'heigth': 501}, 'HV_004.jpg': {'width': 667, 'heigth': 500}, 'HV_005.jpg': {'width': 750, 'heigth': 500}, 'HV_006.jpg': {'width': 750, 'heigth': 500}, 'HV_007.jpg': {'width': 750, 'heigth': 500}, 'HV_008.jpg': {'width': 500, 'heigth': 333}, 'HV_009.jpg': {'width': 745, 'heigth': 419}, 'HV_010.jpg': {'width': 288, 'heigth': 175}, 'HV_011.jpg': {'width': 177, 'heigth': 284}, 'HV_013.jpg': {'width': 2048, 'heigth': 1279}, 'HV_014.jpg': {'width': 275, 'heigth': 183}, 'HV_015.jpg': {'width': 275, 'heigth': 183}, 'H_Img_001.jpg': {'width': 816, 'heigth': 501}, 'H_Img_002.jpg': {'width': 262, 'heigth': 192}, 'H_Img_003.jpg': {'width': 298, 'heigth': 169}, 'H_Img_004.jpg': {'width': 866, 'heigth': 1300}, 'H_Img_005.jpg': {'width': 1300, 'heigth': 866}, 'H_Img_006.jpg': {'width': 894, 'heigth': 1300}, 'H_Img_007.jpg': {'width': 286, 'heigth': 176}, 'H_Img_008.jpg': {'width': 309, 'heigth': 163}, 'H_Img_010.jpg': {'width': 225, 'heigth': 225}, 'MV_001.jpg': {'width': 640, 'heigth': 420}, 'MV_002.jpg': {'width': 800, 'heigth': 596}, 'MV_003.jpg': {'width': 2500, 'heigth': 1667}, 'MV_004.jpg': {'width': 275, 'heigth': 183}, 'M_001.jpg': {'width': 825, 'heigth': 550}, 'M_002.jpg': {'width': 1400, 'heigth': 950}, 'M_003.jpg': {'width': 1600, 'heigth': 900}, 'M_004.jpg': {'width': 620, 'heigth': 330}, 'M_005.jpg': {'width': 207, 'heigth': 243}, 'VB.jpg': {'width': 282, 'heigth': 501}, 'VBM_001.jpg': {'width': 862, 'heigth': 575}, 'VBM_002.jpg': {'width': 1300, 'heigth': 957}, 'VBM_003.jpg': {'width': 1071, 'heigth': 1689}, 'VBM_004.jpg': {'width': 1120, 'heigth': 747}, 'VBM_005.jpg': {'width': 917, 'heigth': 1390}, 'VB_001.jpg': {'width': 870, 'heigth': 1300}, 'VB_Img_001.jpg': {'width': 667, 'heigth': 500}, 'VB_Img_002.jpg': {'width': 667, 'heigth': 500}, 'VB_Img_003.jpg': {'width': 334, 'heigth': 501}, 'VB_Img_004.jpg': {'width': 760, 'heigth': 500}, 'VM_001.jpg': {'width': 750, 'heigth': 500}, 'VM_002.jpg': {'width': 864, 'heigth': 1300}, 'VM_005.jpg': {'width': 334, 'heigth': 501}, 'V_Img_001.jpg': {'width': 750, 'heigth': 500}, 'V_Img_002.jpg': {'width': 793, 'heigth': 500}, 'V_Img_003.jpg': {'width': 1567, 'heigth': 1175}, 'V_Img_004.jpg': {'width': 500, 'heigth': 889}, 'V_Img_005.jpg': {'width': 1024, 'heigth': 656}, 'V_Img_006.jpg': {'width': 683, 'heigth': 1024}, 'V_Img_007.jpg': {'width': 450, 'heigth': 317}}\n"
          ],
          "name": "stdout"
        }
      ]
    },
    {
      "cell_type": "code",
      "metadata": {
        "id": "XAjeZDLV_KJN",
        "outputId": "86b9a47d-3543-4309-d65a-3965807fb980"
      },
      "source": [
        "#Convert dict to dataframe before saving it as a csv\n",
        "import pandas as pd\n",
        "df=(pd.DataFrame(size_images)).transpose()\n",
        "print(df)"
      ],
      "execution_count": null,
      "outputs": [
        {
          "output_type": "stream",
          "text": [
            "                 heigth  width\n",
            "B_002.jpg           866   1300\n",
            "B_003.jpg           989    800\n",
            "B_004.jpg          1347   2000\n",
            "B_005.jpg          1024    658\n",
            "B_006.jpg           183    275\n",
            "B_Img001.jpg       1105   1500\n",
            "HB_Img001.jpg       600    900\n",
            "HB_Img002.jpg      1024    768\n",
            "HB_Img003.jpg      1300    866\n",
            "HMB_Img_001.jpg     501    334\n",
            "HMB_Img_002.jpg     900   1200\n",
            "HM_Img_001.jpg      682   1024\n",
            "HM_Img_002.jpg      534    800\n",
            "HM_Img_003.jpg      183    275\n",
            "HM_Img_004.jpg      682   1024\n",
            "HM_Img_005.jpg      682   1024\n",
            "HM_Img_006.jpg      331    553\n",
            "HM_Img_007.jpg      417    626\n",
            "HM_Img_008.jpg      534    800\n",
            "HM_Img_009.jpg     1157   1600\n",
            "HM_Img_010.jpg      162    311\n",
            "HVB_Img_001.jpg     501    334\n",
            "HVB_Img_002.jpg     500    375\n",
            "HVB_Img_003.jpg     500    750\n",
            "HVB_Img_004.jpg     500    667\n",
            "HVB_Img_005.jpg     502    277\n",
            "HVB_Img_006.jpg     501    334\n",
            "HVB_Img_007.jpg     750    500\n",
            "HVB_Img_008.jpg     500    375\n",
            "HVB_Img_009.jpg     501    408\n",
            "...                 ...    ...\n",
            "MV_001.jpg          420    640\n",
            "MV_002.jpg          596    800\n",
            "MV_003.jpg         1667   2500\n",
            "MV_004.jpg          183    275\n",
            "M_001.jpg           550    825\n",
            "M_002.jpg           950   1400\n",
            "M_003.jpg           900   1600\n",
            "M_004.jpg           330    620\n",
            "M_005.jpg           243    207\n",
            "VB.jpg              501    282\n",
            "VBM_001.jpg         575    862\n",
            "VBM_002.jpg         957   1300\n",
            "VBM_003.jpg        1689   1071\n",
            "VBM_004.jpg         747   1120\n",
            "VBM_005.jpg        1390    917\n",
            "VB_001.jpg         1300    870\n",
            "VB_Img_001.jpg      500    667\n",
            "VB_Img_002.jpg      500    667\n",
            "VB_Img_003.jpg      501    334\n",
            "VB_Img_004.jpg      500    760\n",
            "VM_001.jpg          500    750\n",
            "VM_002.jpg         1300    864\n",
            "VM_005.jpg          501    334\n",
            "V_Img_001.jpg       500    750\n",
            "V_Img_002.jpg       500    793\n",
            "V_Img_003.jpg      1175   1567\n",
            "V_Img_004.jpg       889    500\n",
            "V_Img_005.jpg       656   1024\n",
            "V_Img_006.jpg      1024    683\n",
            "V_Img_007.jpg       317    450\n",
            "\n",
            "[132 rows x 2 columns]\n"
          ],
          "name": "stdout"
        }
      ]
    },
    {
      "cell_type": "code",
      "metadata": {
        "id": "UdRSAbA6_KJx"
      },
      "source": [
        "#Save dataframe in .csv\n",
        "import os\n",
        "os.chdir(r\"E:\\AI\\Session12\\JSON\")\n",
        "df.to_csv(\"Image_size_generated.csv\")"
      ],
      "execution_count": null,
      "outputs": []
    },
    {
      "cell_type": "code",
      "metadata": {
        "id": "ST44GWkO_KKb"
      },
      "source": [
        "#Read two csv files 1. VGG Annotatore CSV file 2. Image_size_generated CSV file\n",
        "df1 = pd.read_csv(\"VGG_Annotator_export_as_CSV.csv\")\n",
        "df2 = pd.read_csv(\"Image_size_generated.csv\")\n",
        "df2.rename( columns={'Unnamed: 0':'filename'}, inplace=True )"
      ],
      "execution_count": null,
      "outputs": []
    },
    {
      "cell_type": "code",
      "metadata": {
        "id": "K_pfeJwR_KK_",
        "outputId": "3b383244-0b16-4d09-a3ab-ae1357ac19a6"
      },
      "source": [
        "df1.head()"
      ],
      "execution_count": null,
      "outputs": [
        {
          "output_type": "execute_result",
          "data": {
            "text/html": [
              "<div>\n",
              "<style scoped>\n",
              "    .dataframe tbody tr th:only-of-type {\n",
              "        vertical-align: middle;\n",
              "    }\n",
              "\n",
              "    .dataframe tbody tr th {\n",
              "        vertical-align: top;\n",
              "    }\n",
              "\n",
              "    .dataframe thead th {\n",
              "        text-align: right;\n",
              "    }\n",
              "</style>\n",
              "<table border=\"1\" class=\"dataframe\">\n",
              "  <thead>\n",
              "    <tr style=\"text-align: right;\">\n",
              "      <th></th>\n",
              "      <th>filename</th>\n",
              "      <th>file_size</th>\n",
              "      <th>file_attributes</th>\n",
              "      <th>region_count</th>\n",
              "      <th>region_id</th>\n",
              "      <th>region_shape_attributes</th>\n",
              "      <th>region_attributes</th>\n",
              "    </tr>\n",
              "  </thead>\n",
              "  <tbody>\n",
              "    <tr>\n",
              "      <th>0</th>\n",
              "      <td>B_002.jpg</td>\n",
              "      <td>122572</td>\n",
              "      <td>{\"caption\":\"\",\"public_domain\":\"no\",\"image_url\"...</td>\n",
              "      <td>1</td>\n",
              "      <td>0</td>\n",
              "      <td>{\"name\":\"rect\",\"x\":229,\"y\":224,\"width\":826,\"he...</td>\n",
              "      <td>{\"CLASS\":\"Boots\"}</td>\n",
              "    </tr>\n",
              "    <tr>\n",
              "      <th>1</th>\n",
              "      <td>B_003.jpg</td>\n",
              "      <td>98922</td>\n",
              "      <td>{\"caption\":\"\",\"public_domain\":\"no\",\"image_url\"...</td>\n",
              "      <td>1</td>\n",
              "      <td>0</td>\n",
              "      <td>{\"name\":\"rect\",\"x\":282,\"y\":644,\"width\":204,\"he...</td>\n",
              "      <td>{\"CLASS\":\"Boots\"}</td>\n",
              "    </tr>\n",
              "    <tr>\n",
              "      <th>2</th>\n",
              "      <td>B_004.jpg</td>\n",
              "      <td>516934</td>\n",
              "      <td>{\"caption\":\"\",\"public_domain\":\"no\",\"image_url\"...</td>\n",
              "      <td>1</td>\n",
              "      <td>0</td>\n",
              "      <td>{\"name\":\"rect\",\"x\":861,\"y\":1020,\"width\":228,\"h...</td>\n",
              "      <td>{\"CLASS\":\"Boots\"}</td>\n",
              "    </tr>\n",
              "    <tr>\n",
              "      <th>3</th>\n",
              "      <td>B_005.jpg</td>\n",
              "      <td>145962</td>\n",
              "      <td>{\"caption\":\"\",\"public_domain\":\"no\",\"image_url\"...</td>\n",
              "      <td>1</td>\n",
              "      <td>0</td>\n",
              "      <td>{\"name\":\"rect\",\"x\":190,\"y\":808,\"width\":305,\"he...</td>\n",
              "      <td>{\"CLASS\":\"Boots\"}</td>\n",
              "    </tr>\n",
              "    <tr>\n",
              "      <th>4</th>\n",
              "      <td>B_006.jpg</td>\n",
              "      <td>12468</td>\n",
              "      <td>{\"caption\":\"\",\"public_domain\":\"no\",\"image_url\"...</td>\n",
              "      <td>2</td>\n",
              "      <td>0</td>\n",
              "      <td>{\"name\":\"rect\",\"x\":21,\"y\":73,\"width\":66,\"heigh...</td>\n",
              "      <td>{\"CLASS\":\"Boots\"}</td>\n",
              "    </tr>\n",
              "  </tbody>\n",
              "</table>\n",
              "</div>"
            ],
            "text/plain": [
              "    filename  file_size                                    file_attributes  \\\n",
              "0  B_002.jpg     122572  {\"caption\":\"\",\"public_domain\":\"no\",\"image_url\"...   \n",
              "1  B_003.jpg      98922  {\"caption\":\"\",\"public_domain\":\"no\",\"image_url\"...   \n",
              "2  B_004.jpg     516934  {\"caption\":\"\",\"public_domain\":\"no\",\"image_url\"...   \n",
              "3  B_005.jpg     145962  {\"caption\":\"\",\"public_domain\":\"no\",\"image_url\"...   \n",
              "4  B_006.jpg      12468  {\"caption\":\"\",\"public_domain\":\"no\",\"image_url\"...   \n",
              "\n",
              "   region_count  region_id                            region_shape_attributes  \\\n",
              "0             1          0  {\"name\":\"rect\",\"x\":229,\"y\":224,\"width\":826,\"he...   \n",
              "1             1          0  {\"name\":\"rect\",\"x\":282,\"y\":644,\"width\":204,\"he...   \n",
              "2             1          0  {\"name\":\"rect\",\"x\":861,\"y\":1020,\"width\":228,\"h...   \n",
              "3             1          0  {\"name\":\"rect\",\"x\":190,\"y\":808,\"width\":305,\"he...   \n",
              "4             2          0  {\"name\":\"rect\",\"x\":21,\"y\":73,\"width\":66,\"heigh...   \n",
              "\n",
              "   region_attributes  \n",
              "0  {\"CLASS\":\"Boots\"}  \n",
              "1  {\"CLASS\":\"Boots\"}  \n",
              "2  {\"CLASS\":\"Boots\"}  \n",
              "3  {\"CLASS\":\"Boots\"}  \n",
              "4  {\"CLASS\":\"Boots\"}  "
            ]
          },
          "metadata": {
            "tags": []
          },
          "execution_count": 7
        }
      ]
    },
    {
      "cell_type": "code",
      "metadata": {
        "id": "-QKHQN_s_KLv",
        "outputId": "b4d85774-b152-4002-fa5d-6accca7c31f4"
      },
      "source": [
        "df2.head()"
      ],
      "execution_count": null,
      "outputs": [
        {
          "output_type": "execute_result",
          "data": {
            "text/html": [
              "<div>\n",
              "<style scoped>\n",
              "    .dataframe tbody tr th:only-of-type {\n",
              "        vertical-align: middle;\n",
              "    }\n",
              "\n",
              "    .dataframe tbody tr th {\n",
              "        vertical-align: top;\n",
              "    }\n",
              "\n",
              "    .dataframe thead th {\n",
              "        text-align: right;\n",
              "    }\n",
              "</style>\n",
              "<table border=\"1\" class=\"dataframe\">\n",
              "  <thead>\n",
              "    <tr style=\"text-align: right;\">\n",
              "      <th></th>\n",
              "      <th>filename</th>\n",
              "      <th>heigth</th>\n",
              "      <th>width</th>\n",
              "    </tr>\n",
              "  </thead>\n",
              "  <tbody>\n",
              "    <tr>\n",
              "      <th>0</th>\n",
              "      <td>B_002.jpg</td>\n",
              "      <td>866</td>\n",
              "      <td>1300</td>\n",
              "    </tr>\n",
              "    <tr>\n",
              "      <th>1</th>\n",
              "      <td>B_003.jpg</td>\n",
              "      <td>989</td>\n",
              "      <td>800</td>\n",
              "    </tr>\n",
              "    <tr>\n",
              "      <th>2</th>\n",
              "      <td>B_004.jpg</td>\n",
              "      <td>1347</td>\n",
              "      <td>2000</td>\n",
              "    </tr>\n",
              "    <tr>\n",
              "      <th>3</th>\n",
              "      <td>B_005.jpg</td>\n",
              "      <td>1024</td>\n",
              "      <td>658</td>\n",
              "    </tr>\n",
              "    <tr>\n",
              "      <th>4</th>\n",
              "      <td>B_006.jpg</td>\n",
              "      <td>183</td>\n",
              "      <td>275</td>\n",
              "    </tr>\n",
              "  </tbody>\n",
              "</table>\n",
              "</div>"
            ],
            "text/plain": [
              "    filename  heigth  width\n",
              "0  B_002.jpg     866   1300\n",
              "1  B_003.jpg     989    800\n",
              "2  B_004.jpg    1347   2000\n",
              "3  B_005.jpg    1024    658\n",
              "4  B_006.jpg     183    275"
            ]
          },
          "metadata": {
            "tags": []
          },
          "execution_count": 8
        }
      ]
    },
    {
      "cell_type": "code",
      "metadata": {
        "id": "lfOglUbv_KMd"
      },
      "source": [
        "#Merge two files using LEFT JOIN with filename attribute\n",
        "df3 = df1.merge(df2, on=['filename'], how='left')\n",
        "df3.to_csv(\"Img_dims_with_bbox_dims.csv\") #Saved the merged CSV file to edit manually and keep only relevant columns"
      ],
      "execution_count": null,
      "outputs": []
    },
    {
      "cell_type": "code",
      "metadata": {
        "id": "p40eqzcC_KNN",
        "outputId": "7915d95c-dfde-447f-d097-b6de8a824fa2"
      },
      "source": [
        "df3.head()"
      ],
      "execution_count": null,
      "outputs": [
        {
          "output_type": "execute_result",
          "data": {
            "text/html": [
              "<div>\n",
              "<style scoped>\n",
              "    .dataframe tbody tr th:only-of-type {\n",
              "        vertical-align: middle;\n",
              "    }\n",
              "\n",
              "    .dataframe tbody tr th {\n",
              "        vertical-align: top;\n",
              "    }\n",
              "\n",
              "    .dataframe thead th {\n",
              "        text-align: right;\n",
              "    }\n",
              "</style>\n",
              "<table border=\"1\" class=\"dataframe\">\n",
              "  <thead>\n",
              "    <tr style=\"text-align: right;\">\n",
              "      <th></th>\n",
              "      <th>filename</th>\n",
              "      <th>file_size</th>\n",
              "      <th>file_attributes</th>\n",
              "      <th>region_count</th>\n",
              "      <th>region_id</th>\n",
              "      <th>region_shape_attributes</th>\n",
              "      <th>region_attributes</th>\n",
              "      <th>heigth</th>\n",
              "      <th>width</th>\n",
              "    </tr>\n",
              "  </thead>\n",
              "  <tbody>\n",
              "    <tr>\n",
              "      <th>0</th>\n",
              "      <td>B_002.jpg</td>\n",
              "      <td>122572</td>\n",
              "      <td>{\"caption\":\"\",\"public_domain\":\"no\",\"image_url\"...</td>\n",
              "      <td>1</td>\n",
              "      <td>0</td>\n",
              "      <td>{\"name\":\"rect\",\"x\":229,\"y\":224,\"width\":826,\"he...</td>\n",
              "      <td>{\"CLASS\":\"Boots\"}</td>\n",
              "      <td>866</td>\n",
              "      <td>1300</td>\n",
              "    </tr>\n",
              "    <tr>\n",
              "      <th>1</th>\n",
              "      <td>B_003.jpg</td>\n",
              "      <td>98922</td>\n",
              "      <td>{\"caption\":\"\",\"public_domain\":\"no\",\"image_url\"...</td>\n",
              "      <td>1</td>\n",
              "      <td>0</td>\n",
              "      <td>{\"name\":\"rect\",\"x\":282,\"y\":644,\"width\":204,\"he...</td>\n",
              "      <td>{\"CLASS\":\"Boots\"}</td>\n",
              "      <td>989</td>\n",
              "      <td>800</td>\n",
              "    </tr>\n",
              "    <tr>\n",
              "      <th>2</th>\n",
              "      <td>B_004.jpg</td>\n",
              "      <td>516934</td>\n",
              "      <td>{\"caption\":\"\",\"public_domain\":\"no\",\"image_url\"...</td>\n",
              "      <td>1</td>\n",
              "      <td>0</td>\n",
              "      <td>{\"name\":\"rect\",\"x\":861,\"y\":1020,\"width\":228,\"h...</td>\n",
              "      <td>{\"CLASS\":\"Boots\"}</td>\n",
              "      <td>1347</td>\n",
              "      <td>2000</td>\n",
              "    </tr>\n",
              "    <tr>\n",
              "      <th>3</th>\n",
              "      <td>B_005.jpg</td>\n",
              "      <td>145962</td>\n",
              "      <td>{\"caption\":\"\",\"public_domain\":\"no\",\"image_url\"...</td>\n",
              "      <td>1</td>\n",
              "      <td>0</td>\n",
              "      <td>{\"name\":\"rect\",\"x\":190,\"y\":808,\"width\":305,\"he...</td>\n",
              "      <td>{\"CLASS\":\"Boots\"}</td>\n",
              "      <td>1024</td>\n",
              "      <td>658</td>\n",
              "    </tr>\n",
              "    <tr>\n",
              "      <th>4</th>\n",
              "      <td>B_006.jpg</td>\n",
              "      <td>12468</td>\n",
              "      <td>{\"caption\":\"\",\"public_domain\":\"no\",\"image_url\"...</td>\n",
              "      <td>2</td>\n",
              "      <td>0</td>\n",
              "      <td>{\"name\":\"rect\",\"x\":21,\"y\":73,\"width\":66,\"heigh...</td>\n",
              "      <td>{\"CLASS\":\"Boots\"}</td>\n",
              "      <td>183</td>\n",
              "      <td>275</td>\n",
              "    </tr>\n",
              "  </tbody>\n",
              "</table>\n",
              "</div>"
            ],
            "text/plain": [
              "    filename  file_size                                    file_attributes  \\\n",
              "0  B_002.jpg     122572  {\"caption\":\"\",\"public_domain\":\"no\",\"image_url\"...   \n",
              "1  B_003.jpg      98922  {\"caption\":\"\",\"public_domain\":\"no\",\"image_url\"...   \n",
              "2  B_004.jpg     516934  {\"caption\":\"\",\"public_domain\":\"no\",\"image_url\"...   \n",
              "3  B_005.jpg     145962  {\"caption\":\"\",\"public_domain\":\"no\",\"image_url\"...   \n",
              "4  B_006.jpg      12468  {\"caption\":\"\",\"public_domain\":\"no\",\"image_url\"...   \n",
              "\n",
              "   region_count  region_id                            region_shape_attributes  \\\n",
              "0             1          0  {\"name\":\"rect\",\"x\":229,\"y\":224,\"width\":826,\"he...   \n",
              "1             1          0  {\"name\":\"rect\",\"x\":282,\"y\":644,\"width\":204,\"he...   \n",
              "2             1          0  {\"name\":\"rect\",\"x\":861,\"y\":1020,\"width\":228,\"h...   \n",
              "3             1          0  {\"name\":\"rect\",\"x\":190,\"y\":808,\"width\":305,\"he...   \n",
              "4             2          0  {\"name\":\"rect\",\"x\":21,\"y\":73,\"width\":66,\"heigh...   \n",
              "\n",
              "   region_attributes  heigth  width  \n",
              "0  {\"CLASS\":\"Boots\"}     866   1300  \n",
              "1  {\"CLASS\":\"Boots\"}     989    800  \n",
              "2  {\"CLASS\":\"Boots\"}    1347   2000  \n",
              "3  {\"CLASS\":\"Boots\"}    1024    658  \n",
              "4  {\"CLASS\":\"Boots\"}     183    275  "
            ]
          },
          "metadata": {
            "tags": []
          },
          "execution_count": 10
        }
      ]
    },
    {
      "cell_type": "code",
      "metadata": {
        "id": "Ozuqw9DX_KN5"
      },
      "source": [
        "#In the above frame df3 we see height column first and width column next, eventhough we saved the CSV as width, height\n",
        "#While editing, 1. We can manually bring width column first 2. keep relevant columns only"
      ],
      "execution_count": null,
      "outputs": []
    },
    {
      "cell_type": "code",
      "metadata": {
        "id": "Y9yuvzph_KOi"
      },
      "source": [
        "#Read final dataframe\n",
        "data = pd.read_csv(\"Final_frame_manually_edited.csv\")"
      ],
      "execution_count": null,
      "outputs": []
    },
    {
      "cell_type": "code",
      "metadata": {
        "id": "w2Cy8-RZ_KPW",
        "outputId": "4f3a67d9-dfed-4d41-f840-8ea13dd4de38"
      },
      "source": [
        "data.head()"
      ],
      "execution_count": null,
      "outputs": [
        {
          "output_type": "execute_result",
          "data": {
            "text/html": [
              "<div>\n",
              "<style scoped>\n",
              "    .dataframe tbody tr th:only-of-type {\n",
              "        vertical-align: middle;\n",
              "    }\n",
              "\n",
              "    .dataframe tbody tr th {\n",
              "        vertical-align: top;\n",
              "    }\n",
              "\n",
              "    .dataframe thead th {\n",
              "        text-align: right;\n",
              "    }\n",
              "</style>\n",
              "<table border=\"1\" class=\"dataframe\">\n",
              "  <thead>\n",
              "    <tr style=\"text-align: right;\">\n",
              "      <th></th>\n",
              "      <th>Class</th>\n",
              "      <th>filename</th>\n",
              "      <th>Img_width</th>\n",
              "      <th>Img_height</th>\n",
              "      <th>X</th>\n",
              "      <th>Y</th>\n",
              "      <th>Bbox_width</th>\n",
              "      <th>Bbox_height</th>\n",
              "    </tr>\n",
              "  </thead>\n",
              "  <tbody>\n",
              "    <tr>\n",
              "      <th>0</th>\n",
              "      <td>Boots</td>\n",
              "      <td>B_002.jpg</td>\n",
              "      <td>1300</td>\n",
              "      <td>866</td>\n",
              "      <td>229</td>\n",
              "      <td>224</td>\n",
              "      <td>826</td>\n",
              "      <td>313</td>\n",
              "    </tr>\n",
              "    <tr>\n",
              "      <th>1</th>\n",
              "      <td>Boots</td>\n",
              "      <td>B_003.jpg</td>\n",
              "      <td>800</td>\n",
              "      <td>989</td>\n",
              "      <td>282</td>\n",
              "      <td>644</td>\n",
              "      <td>204</td>\n",
              "      <td>340</td>\n",
              "    </tr>\n",
              "    <tr>\n",
              "      <th>2</th>\n",
              "      <td>Boots</td>\n",
              "      <td>B_004.jpg</td>\n",
              "      <td>2000</td>\n",
              "      <td>1347</td>\n",
              "      <td>861</td>\n",
              "      <td>1020</td>\n",
              "      <td>228</td>\n",
              "      <td>158</td>\n",
              "    </tr>\n",
              "    <tr>\n",
              "      <th>3</th>\n",
              "      <td>Boots</td>\n",
              "      <td>B_005.jpg</td>\n",
              "      <td>658</td>\n",
              "      <td>1024</td>\n",
              "      <td>190</td>\n",
              "      <td>808</td>\n",
              "      <td>305</td>\n",
              "      <td>145</td>\n",
              "    </tr>\n",
              "    <tr>\n",
              "      <th>4</th>\n",
              "      <td>Boots</td>\n",
              "      <td>B_006.jpg</td>\n",
              "      <td>275</td>\n",
              "      <td>183</td>\n",
              "      <td>21</td>\n",
              "      <td>73</td>\n",
              "      <td>66</td>\n",
              "      <td>50</td>\n",
              "    </tr>\n",
              "  </tbody>\n",
              "</table>\n",
              "</div>"
            ],
            "text/plain": [
              "   Class   filename  Img_width  Img_height    X     Y  Bbox_width  Bbox_height\n",
              "0  Boots  B_002.jpg       1300         866  229   224         826          313\n",
              "1  Boots  B_003.jpg        800         989  282   644         204          340\n",
              "2  Boots  B_004.jpg       2000        1347  861  1020         228          158\n",
              "3  Boots  B_005.jpg        658        1024  190   808         305          145\n",
              "4  Boots  B_006.jpg        275         183   21    73          66           50"
            ]
          },
          "metadata": {
            "tags": []
          },
          "execution_count": 15
        }
      ]
    },
    {
      "cell_type": "code",
      "metadata": {
        "id": "AtWHj8yI_KP_",
        "outputId": "bf7ff6ba-e64b-42c7-9415-2c3e33a18cf5"
      },
      "source": [
        "\"\"\"\n",
        "Class - Boots/HardHat/Mask/Vests\n",
        "Filename   - Image name\n",
        "Img_width  - Width of the image\n",
        "Img_height - Height of the image #Resolution of image = Img_width X Img_height\n",
        "X          - In X-axis, Start of bounding box from top left corner\n",
        "Y          - In Y-axis, Start of bounding box from top left corner\n",
        "BBox_Width - Width of the bounding box(x)\n",
        "BBox_height- Height of the bounding box(y)\n",
        "\"\"\""
      ],
      "execution_count": null,
      "outputs": [
        {
          "output_type": "execute_result",
          "data": {
            "text/plain": [
              "'\\nClass - Boots/HardHat/Mask/Vests\\nFilename   - Image name\\nImg_width  - Width of the image\\nImg_height - Height of the image #Resolution of image = Img_width X Img_height\\nX          - In X-axis, Start of bounding box from top left corner\\nY          - In Y-axis, Start of bounding box from top left corner\\nBBox_Width - Width of the bounding box(x)\\nBBox_height- Height of the bounding box(y)\\n'"
            ]
          },
          "metadata": {
            "tags": []
          },
          "execution_count": 16
        }
      ]
    },
    {
      "cell_type": "code",
      "metadata": {
        "id": "c9Vl38zK_KQp"
      },
      "source": [
        "data['Norm_bbox_Width'] = data['Bbox_width']/data['Img_width']\n",
        "data['Norm_bbox_Height'] = data['Bbox_height']/ data['Img_height']\n",
        "\n",
        "\"\"\"\n",
        "Norm_bbox_Width - Normalized bbox width (0 - 1)\n",
        "Norm_bbox_Height - Normalized bbox height (0 - 1)\n",
        "\"\"\""
      ],
      "execution_count": null,
      "outputs": []
    },
    {
      "cell_type": "code",
      "metadata": {
        "id": "R1hsy_Zq_KRQ",
        "outputId": "15b7458d-0317-4313-f49a-f8b4c290064f"
      },
      "source": [
        "import matplotlib.pyplot as plt\n",
        "plt.scatter(data['Norm_bbox_Width'], data['Norm_bbox_Height'])\n",
        "plt.title('Normalised - BBox_width Vs BBox height')\n",
        "plt.xlabel('Nomalized BBox width')\n",
        "plt.ylabel('Normalized BBox Height')"
      ],
      "execution_count": null,
      "outputs": [
        {
          "output_type": "execute_result",
          "data": {
            "text/plain": [
              "Text(0,0.5,'Normalized BBox Height')"
            ]
          },
          "metadata": {
            "tags": []
          },
          "execution_count": 26
        },
        {
          "output_type": "display_data",
          "data": {
            "image/png": "[encoded data removed]",
            "text/plain": [
              "<Figure size 432x288 with 1 Axes>"
            ]
          },
          "metadata": {
            "tags": []
          }
        }
      ]
    },
    {
      "cell_type": "code",
      "metadata": {
        "id": "hNLGjg4S_KR7"
      },
      "source": [
        "import numpy as np\n",
        "data['log_Norm_bbox_Width'] = np.log(data['Bbox_width']/data['Img_width'])\n",
        "data['log_Norm_bbox_Height'] = np.log(data['Bbox_height']/ data['Img_height'])\n",
        "\n",
        "\"\"\"\n",
        "log_Norm_bbox_Width - log(Normalized bbox width (0 - 1))\n",
        "log_Norm_bbox_Height - log(Normalized bbox height (0 - 1))\n",
        "\"\"\""
      ],
      "execution_count": null,
      "outputs": []
    },
    {
      "cell_type": "code",
      "metadata": {
        "id": "LWxvKqJf_KSi",
        "outputId": "7e5f23bf-38d4-4d1a-e725-21d1d45747d7"
      },
      "source": [
        "import matplotlib.pyplot as plt\n",
        "plt.scatter(data['log_Norm_bbox_Width'], data['log_Norm_bbox_Height'])\n",
        "plt.title('Log of Normalised - BBox_width Vs BBox height')\n",
        "plt.xlabel('log Normalized bbox_Width')\n",
        "plt.ylabel('log Normalized BBox Height')"
      ],
      "execution_count": null,
      "outputs": [
        {
          "output_type": "execute_result",
          "data": {
            "text/plain": [
              "Text(0,0.5,'log Normalized BBox Height')"
            ]
          },
          "metadata": {
            "tags": []
          },
          "execution_count": 27
        },
        {
          "output_type": "display_data",
          "data": {
            "image/png": "[encoded data removed]",
            "text/plain": [
              "<Figure size 432x288 with 1 Axes>"
            ]
          },
          "metadata": {
            "tags": []
          }
        }
      ]
    },
    {
      "cell_type": "code",
      "metadata": {
        "id": "1QPPrjFK_KTK",
        "outputId": "fd97707d-cad9-4d34-e683-37fef8f0ecf4"
      },
      "source": [
        "data.head()"
      ],
      "execution_count": null,
      "outputs": [
        {
          "output_type": "execute_result",
          "data": {
            "text/html": [
              "<div>\n",
              "<style scoped>\n",
              "    .dataframe tbody tr th:only-of-type {\n",
              "        vertical-align: middle;\n",
              "    }\n",
              "\n",
              "    .dataframe tbody tr th {\n",
              "        vertical-align: top;\n",
              "    }\n",
              "\n",
              "    .dataframe thead th {\n",
              "        text-align: right;\n",
              "    }\n",
              "</style>\n",
              "<table border=\"1\" class=\"dataframe\">\n",
              "  <thead>\n",
              "    <tr style=\"text-align: right;\">\n",
              "      <th></th>\n",
              "      <th>Class</th>\n",
              "      <th>filename</th>\n",
              "      <th>Img_width</th>\n",
              "      <th>Img_height</th>\n",
              "      <th>X</th>\n",
              "      <th>Y</th>\n",
              "      <th>Bbox_width</th>\n",
              "      <th>Bbox_height</th>\n",
              "      <th>Norm_bbox_Width</th>\n",
              "      <th>Norm_bbox_Height</th>\n",
              "      <th>log_Norm_bbox_Width</th>\n",
              "      <th>log_Norm_bbox_Height</th>\n",
              "    </tr>\n",
              "  </thead>\n",
              "  <tbody>\n",
              "    <tr>\n",
              "      <th>0</th>\n",
              "      <td>Boots</td>\n",
              "      <td>B_002.jpg</td>\n",
              "      <td>1300</td>\n",
              "      <td>866</td>\n",
              "      <td>229</td>\n",
              "      <td>224</td>\n",
              "      <td>826</td>\n",
              "      <td>313</td>\n",
              "      <td>0.635385</td>\n",
              "      <td>0.361432</td>\n",
              "      <td>-0.453525</td>\n",
              "      <td>-1.017682</td>\n",
              "    </tr>\n",
              "    <tr>\n",
              "      <th>1</th>\n",
              "      <td>Boots</td>\n",
              "      <td>B_003.jpg</td>\n",
              "      <td>800</td>\n",
              "      <td>989</td>\n",
              "      <td>282</td>\n",
              "      <td>644</td>\n",
              "      <td>204</td>\n",
              "      <td>340</td>\n",
              "      <td>0.255000</td>\n",
              "      <td>0.343782</td>\n",
              "      <td>-1.366492</td>\n",
              "      <td>-1.067749</td>\n",
              "    </tr>\n",
              "    <tr>\n",
              "      <th>2</th>\n",
              "      <td>Boots</td>\n",
              "      <td>B_004.jpg</td>\n",
              "      <td>2000</td>\n",
              "      <td>1347</td>\n",
              "      <td>861</td>\n",
              "      <td>1020</td>\n",
              "      <td>228</td>\n",
              "      <td>158</td>\n",
              "      <td>0.114000</td>\n",
              "      <td>0.117298</td>\n",
              "      <td>-2.171557</td>\n",
              "      <td>-2.143040</td>\n",
              "    </tr>\n",
              "    <tr>\n",
              "      <th>3</th>\n",
              "      <td>Boots</td>\n",
              "      <td>B_005.jpg</td>\n",
              "      <td>658</td>\n",
              "      <td>1024</td>\n",
              "      <td>190</td>\n",
              "      <td>808</td>\n",
              "      <td>305</td>\n",
              "      <td>145</td>\n",
              "      <td>0.463526</td>\n",
              "      <td>0.141602</td>\n",
              "      <td>-0.768893</td>\n",
              "      <td>-1.954738</td>\n",
              "    </tr>\n",
              "    <tr>\n",
              "      <th>4</th>\n",
              "      <td>Boots</td>\n",
              "      <td>B_006.jpg</td>\n",
              "      <td>275</td>\n",
              "      <td>183</td>\n",
              "      <td>21</td>\n",
              "      <td>73</td>\n",
              "      <td>66</td>\n",
              "      <td>50</td>\n",
              "      <td>0.240000</td>\n",
              "      <td>0.273224</td>\n",
              "      <td>-1.427116</td>\n",
              "      <td>-1.297463</td>\n",
              "    </tr>\n",
              "  </tbody>\n",
              "</table>\n",
              "</div>"
            ],
            "text/plain": [
              "   Class   filename  Img_width  Img_height    X     Y  Bbox_width  \\\n",
              "0  Boots  B_002.jpg       1300         866  229   224         826   \n",
              "1  Boots  B_003.jpg        800         989  282   644         204   \n",
              "2  Boots  B_004.jpg       2000        1347  861  1020         228   \n",
              "3  Boots  B_005.jpg        658        1024  190   808         305   \n",
              "4  Boots  B_006.jpg        275         183   21    73          66   \n",
              "\n",
              "   Bbox_height  Norm_bbox_Width  Norm_bbox_Height  log_Norm_bbox_Width  \\\n",
              "0          313         0.635385          0.361432            -0.453525   \n",
              "1          340         0.255000          0.343782            -1.366492   \n",
              "2          158         0.114000          0.117298            -2.171557   \n",
              "3          145         0.463526          0.141602            -0.768893   \n",
              "4           50         0.240000          0.273224            -1.427116   \n",
              "\n",
              "   log_Norm_bbox_Height  \n",
              "0             -1.017682  \n",
              "1             -1.067749  \n",
              "2             -2.143040  \n",
              "3             -1.954738  \n",
              "4             -1.297463  "
            ]
          },
          "metadata": {
            "tags": []
          },
          "execution_count": 31
        }
      ]
    },
    {
      "cell_type": "code",
      "metadata": {
        "id": "2MQpTqsO_KT2"
      },
      "source": [
        "#K-means clustering for normalized and log normalized width & Height"
      ],
      "execution_count": null,
      "outputs": []
    },
    {
      "cell_type": "code",
      "metadata": {
        "id": "L-XG2RdP_KUh"
      },
      "source": [
        "from sklearn.datasets.samples_generator import make_blobs\n",
        "from sklearn.cluster import KMeans"
      ],
      "execution_count": null,
      "outputs": []
    },
    {
      "cell_type": "code",
      "metadata": {
        "id": "rKRHsFHU_KVS"
      },
      "source": [
        "X = data[['Norm_bbox_Width', 'Norm_bbox_Height']]"
      ],
      "execution_count": null,
      "outputs": []
    },
    {
      "cell_type": "code",
      "metadata": {
        "id": "eWQsd400_KWE",
        "outputId": "69fb881e-4257-48be-e09c-fd5e78854ea4"
      },
      "source": [
        "wcss = []\n",
        "for i in range(1, 11):\n",
        "    kmeans = KMeans(n_clusters=i, init='k-means++', max_iter=300, n_init=10, random_state=0)\n",
        "    kmeans.fit(X)\n",
        "    wcss.append(kmeans.inertia_)\n",
        "plt.plot(range(1, 11), wcss)\n",
        "plt.title('Elbow Method')\n",
        "plt.xlabel('Number of clusters')\n",
        "plt.ylabel('WCSS')\n",
        "plt.show()"
      ],
      "execution_count": null,
      "outputs": [
        {
          "output_type": "display_data",
          "data": {
            "image/png": "[encoded data removed]",
            "text/plain": [
              "<Figure size 432x288 with 1 Axes>"
            ]
          },
          "metadata": {
            "tags": []
          }
        }
      ]
    },
    {
      "cell_type": "code",
      "metadata": {
        "id": "oVYvPteP_KXE",
        "outputId": "637de35a-ca86-4e22-9d56-0c74e679841c"
      },
      "source": [
        "kmeans = KMeans(n_clusters=5, init='k-means++', max_iter=300, n_init=10, random_state=0)\n",
        "pred_y = kmeans.fit_predict(X)\n",
        "plt.scatter(X.iloc[:,0], X.iloc[:,1])\n",
        "plt.scatter(kmeans.cluster_centers_[:, 0], kmeans.cluster_centers_[:, 1], s=300, c='red')\n",
        "plt.show()"
      ],
      "execution_count": null,
      "outputs": [
        {
          "output_type": "display_data",
          "data": {
            "image/png": "[encoded data removed]",
            "text/plain": [
              "<Figure size 432x288 with 1 Axes>"
            ]
          },
          "metadata": {
            "tags": []
          }
        }
      ]
    },
    {
      "cell_type": "code",
      "metadata": {
        "id": "eoeVT3us_KX1"
      },
      "source": [
        "X_log = data[['log_Norm_bbox_Width', 'log_Norm_bbox_Height']]"
      ],
      "execution_count": null,
      "outputs": []
    },
    {
      "cell_type": "code",
      "metadata": {
        "id": "BtfUZJSW_KYk",
        "outputId": "59b0b283-aea9-4f55-aa3d-de3f84fccaf5"
      },
      "source": [
        "wcss = []\n",
        "for i in range(1, 11):\n",
        "    kmeans = KMeans(n_clusters=i, init='k-means++', max_iter=300, n_init=10, random_state=0)\n",
        "    kmeans.fit(X_log)\n",
        "    wcss.append(kmeans.inertia_)\n",
        "plt.plot(range(1, 11), wcss)\n",
        "plt.title('Elbow Method')\n",
        "plt.xlabel('Number of clusters')\n",
        "plt.ylabel('WCSS')\n",
        "plt.show()"
      ],
      "execution_count": null,
      "outputs": [
        {
          "output_type": "display_data",
          "data": {
            "image/png": "[encoded data removed]",
            "text/plain": [
              "<Figure size 432x288 with 1 Axes>"
            ]
          },
          "metadata": {
            "tags": []
          }
        }
      ]
    },
    {
      "cell_type": "code",
      "metadata": {
        "id": "nZXkQXTd_KZc",
        "outputId": "2cef0461-6edf-40cd-fd7e-81de4e2bcde5"
      },
      "source": [
        "kmeans = KMeans(n_clusters=5, init='k-means++', max_iter=300, n_init=10, random_state=0)\n",
        "pred_y = kmeans.fit_predict(X_log)\n",
        "plt.scatter(X_log.iloc[:,0], X_log.iloc[:,1])\n",
        "plt.scatter(kmeans.cluster_centers_[:, 0], kmeans.cluster_centers_[:, 1], s=300, c='red')\n",
        "plt.show()"
      ],
      "execution_count": null,
      "outputs": [
        {
          "output_type": "display_data",
          "data": {
            "image/png": "[encoded data removed]",
            "text/plain": [
              "<Figure size 432x288 with 1 Axes>"
            ]
          },
          "metadata": {
            "tags": []
          }
        }
      ]
    }
  ]
}